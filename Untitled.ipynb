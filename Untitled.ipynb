{
 "cells": [
  {
   "cell_type": "code",
   "execution_count": 1,
   "metadata": {},
   "outputs": [
    {
     "data": {
      "text/html": [
       "<div>\n",
       "<style scoped>\n",
       "    .dataframe tbody tr th:only-of-type {\n",
       "        vertical-align: middle;\n",
       "    }\n",
       "\n",
       "    .dataframe tbody tr th {\n",
       "        vertical-align: top;\n",
       "    }\n",
       "\n",
       "    .dataframe thead th {\n",
       "        text-align: right;\n",
       "    }\n",
       "</style>\n",
       "<table border=\"1\" class=\"dataframe\">\n",
       "  <thead>\n",
       "    <tr style=\"text-align: right;\">\n",
       "      <th></th>\n",
       "      <th>Author</th>\n",
       "      <th>Num of Papers</th>\n",
       "      <th>DOIs</th>\n",
       "    </tr>\n",
       "  </thead>\n",
       "  <tbody>\n",
       "    <tr>\n",
       "      <th>0</th>\n",
       "      <td>Xun Xu</td>\n",
       "      <td>149</td>\n",
       "      <td>['10.1101/2020.07.17.20155150', '10.1101/2020....</td>\n",
       "    </tr>\n",
       "    <tr>\n",
       "      <th>1</th>\n",
       "      <td>Wei Li</td>\n",
       "      <td>148</td>\n",
       "      <td>['10.1101/2020.08.21.20177246', '10.1101/2020....</td>\n",
       "    </tr>\n",
       "    <tr>\n",
       "      <th>2</th>\n",
       "      <td>Jian Wang</td>\n",
       "      <td>146</td>\n",
       "      <td>['10.1101/2020.07.17.20155150', '10.1101/2020....</td>\n",
       "    </tr>\n",
       "    <tr>\n",
       "      <th>3</th>\n",
       "      <td>Kenneth Baillie</td>\n",
       "      <td>141</td>\n",
       "      <td>['10.1101/2020.09.24.20200048', '10.1101/2020....</td>\n",
       "    </tr>\n",
       "    <tr>\n",
       "      <th>4</th>\n",
       "      <td>Yan Li</td>\n",
       "      <td>138</td>\n",
       "      <td>['10.1101/2020.09.28.20203455', '10.1101/2020....</td>\n",
       "    </tr>\n",
       "  </tbody>\n",
       "</table>\n",
       "</div>"
      ],
      "text/plain": [
       "            Author  Num of Papers  \\\n",
       "0           Xun Xu            149   \n",
       "1           Wei Li            148   \n",
       "2        Jian Wang            146   \n",
       "3  Kenneth Baillie            141   \n",
       "4           Yan Li            138   \n",
       "\n",
       "                                                DOIs  \n",
       "0  ['10.1101/2020.07.17.20155150', '10.1101/2020....  \n",
       "1  ['10.1101/2020.08.21.20177246', '10.1101/2020....  \n",
       "2  ['10.1101/2020.07.17.20155150', '10.1101/2020....  \n",
       "3  ['10.1101/2020.09.24.20200048', '10.1101/2020....  \n",
       "4  ['10.1101/2020.09.28.20203455', '10.1101/2020....  "
      ]
     },
     "execution_count": 1,
     "metadata": {},
     "output_type": "execute_result"
    }
   ],
   "source": [
    "import pandas as pd\n",
    "df = pd.read_csv('Authors_with_papers.csv')\n",
    "df.head()"
   ]
  },
  {
   "cell_type": "code",
   "execution_count": 2,
   "metadata": {},
   "outputs": [
    {
     "data": {
      "text/plain": [
       "0             Xun Xu\n",
       "1             Wei Li\n",
       "2          Jian Wang\n",
       "3    Kenneth Baillie\n",
       "4             Yan Li\n",
       "Name: Author, dtype: object"
      ]
     },
     "execution_count": 2,
     "metadata": {},
     "output_type": "execute_result"
    }
   ],
   "source": [
    "df1 = pd.read_csv(\"countries of the world.csv\")\n",
    "df['Author'].head()"
   ]
  },
  {
   "cell_type": "code",
   "execution_count": 3,
   "metadata": {},
   "outputs": [
    {
     "data": {
      "text/html": [
       "<div>\n",
       "<style scoped>\n",
       "    .dataframe tbody tr th:only-of-type {\n",
       "        vertical-align: middle;\n",
       "    }\n",
       "\n",
       "    .dataframe tbody tr th {\n",
       "        vertical-align: top;\n",
       "    }\n",
       "\n",
       "    .dataframe thead th {\n",
       "        text-align: right;\n",
       "    }\n",
       "</style>\n",
       "<table border=\"1\" class=\"dataframe\">\n",
       "  <thead>\n",
       "    <tr style=\"text-align: right;\">\n",
       "      <th></th>\n",
       "      <th>Author</th>\n",
       "      <th>Institution</th>\n",
       "    </tr>\n",
       "  </thead>\n",
       "  <tbody>\n",
       "    <tr>\n",
       "      <th>0</th>\n",
       "      <td>Sasank Vemulapati</td>\n",
       "      <td>Hermes Life Sciences</td>\n",
       "    </tr>\n",
       "    <tr>\n",
       "      <th>1</th>\n",
       "      <td>Adele M Taylor</td>\n",
       "      <td>The University of Edinburgh</td>\n",
       "    </tr>\n",
       "    <tr>\n",
       "      <th>2</th>\n",
       "      <td>Tom C Russ</td>\n",
       "      <td>University of Edinburgh</td>\n",
       "    </tr>\n",
       "    <tr>\n",
       "      <th>3</th>\n",
       "      <td>Mahbubunnabi Tamal</td>\n",
       "      <td>Imam Abdulrahman Bin Faisal University, Dammam...</td>\n",
       "    </tr>\n",
       "    <tr>\n",
       "      <th>4</th>\n",
       "      <td>David A Edwards</td>\n",
       "      <td>Sensory Cloud</td>\n",
       "    </tr>\n",
       "  </tbody>\n",
       "</table>\n",
       "</div>"
      ],
      "text/plain": [
       "               Author                                        Institution\n",
       "0   Sasank Vemulapati                               Hermes Life Sciences\n",
       "1      Adele M Taylor                        The University of Edinburgh\n",
       "2          Tom C Russ                            University of Edinburgh\n",
       "3  Mahbubunnabi Tamal  Imam Abdulrahman Bin Faisal University, Dammam...\n",
       "4     David A Edwards                                      Sensory Cloud"
      ]
     },
     "execution_count": 3,
     "metadata": {},
     "output_type": "execute_result"
    }
   ],
   "source": [
    "covid_auth_df = pd.read_csv('covid-19_authors.csv')\n",
    "covid_auth_df.head()"
   ]
  },
  {
   "cell_type": "code",
   "execution_count": 33,
   "metadata": {},
   "outputs": [],
   "source": [
    "covid_paper_df = pd.read_csv('covid-19_research.csv')\n",
    "covid_paper_df.set_index(\"Date\", inplace=True)\n",
    "\n",
    "new_df = pd.DataFrame(index=covid_paper_df.index.drop_duplicates(keep='first'))\n",
    "\n",
    "new_df['count']=pd.Series(covid_paper_df['Title'].groupby(covid_paper_df.index).count())"
   ]
  },
  {
   "cell_type": "code",
   "execution_count": 37,
   "metadata": {},
   "outputs": [
    {
     "data": {
      "text/html": [
       "<div>\n",
       "<style scoped>\n",
       "    .dataframe tbody tr th:only-of-type {\n",
       "        vertical-align: middle;\n",
       "    }\n",
       "\n",
       "    .dataframe tbody tr th {\n",
       "        vertical-align: top;\n",
       "    }\n",
       "\n",
       "    .dataframe thead th {\n",
       "        text-align: right;\n",
       "    }\n",
       "</style>\n",
       "<table border=\"1\" class=\"dataframe\">\n",
       "  <thead>\n",
       "    <tr style=\"text-align: right;\">\n",
       "      <th></th>\n",
       "      <th>count</th>\n",
       "    </tr>\n",
       "    <tr>\n",
       "      <th>Date</th>\n",
       "      <th></th>\n",
       "    </tr>\n",
       "  </thead>\n",
       "  <tbody>\n",
       "    <tr>\n",
       "      <th>2019-09-25</th>\n",
       "      <td>1</td>\n",
       "    </tr>\n",
       "    <tr>\n",
       "      <th>2020-01-13</th>\n",
       "      <td>1</td>\n",
       "    </tr>\n",
       "    <tr>\n",
       "      <th>2020-01-19</th>\n",
       "      <td>1</td>\n",
       "    </tr>\n",
       "    <tr>\n",
       "      <th>2020-01-21</th>\n",
       "      <td>1</td>\n",
       "    </tr>\n",
       "    <tr>\n",
       "      <th>2020-01-22</th>\n",
       "      <td>1</td>\n",
       "    </tr>\n",
       "  </tbody>\n",
       "</table>\n",
       "</div>"
      ],
      "text/plain": [
       "            count\n",
       "Date             \n",
       "2019-09-25      1\n",
       "2020-01-13      1\n",
       "2020-01-19      1\n",
       "2020-01-21      1\n",
       "2020-01-22      1"
      ]
     },
     "execution_count": 37,
     "metadata": {},
     "output_type": "execute_result"
    }
   ],
   "source": [
    "# new_df.index.drop_duplicates(keep='first')\n",
    "new_df.sort_index(inplace=True)\n",
    "new_df.head()\n"
   ]
  },
  {
   "cell_type": "code",
   "execution_count": null,
   "metadata": {},
   "outputs": [],
   "source": []
  }
 ],
 "metadata": {
  "kernelspec": {
   "display_name": "Python 3",
   "language": "python",
   "name": "python3"
  },
  "language_info": {
   "codemirror_mode": {
    "name": "ipython",
    "version": 3
   },
   "file_extension": ".py",
   "mimetype": "text/x-python",
   "name": "python",
   "nbconvert_exporter": "python",
   "pygments_lexer": "ipython3",
   "version": "3.7.6"
  }
 },
 "nbformat": 4,
 "nbformat_minor": 4
}
