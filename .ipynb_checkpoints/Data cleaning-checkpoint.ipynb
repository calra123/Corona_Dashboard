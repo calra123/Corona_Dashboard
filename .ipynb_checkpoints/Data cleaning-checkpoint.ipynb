{
 "cells": [
  {
   "cell_type": "code",
   "execution_count": 3,
   "metadata": {},
   "outputs": [],
   "source": [
    "import requests\n",
    "import pandas as pd\n",
    "import numpy as np\n",
    "import matplotlib.pyplot as plt"
   ]
  },
  {
   "cell_type": "code",
   "execution_count": 27,
   "metadata": {},
   "outputs": [],
   "source": [
    "api = requests.get('https://api.biorxiv.org/covid19/0')\n",
    "data = api.json()"
   ]
  },
  {
   "cell_type": "code",
   "execution_count": 28,
   "metadata": {},
   "outputs": [],
   "source": [
    "total_num_files = data['messages'][0]['total']\n",
    "\n",
    "pages = total_num_files // 30\n",
    "if total_num_files % 30 > 0:\n",
    "    pages += 1"
   ]
  },
  {
   "cell_type": "markdown",
   "metadata": {},
   "source": [
    "## Get all the APIs"
   ]
  },
  {
   "cell_type": "code",
   "execution_count": 29,
   "metadata": {},
   "outputs": [
    {
     "name": "stdout",
     "output_type": "stream",
     "text": [
      "page 0 out of 309\n",
      "page 10 out of 309\n",
      "page 20 out of 309\n",
      "page 30 out of 309\n",
      "page 40 out of 309\n",
      "page 50 out of 309\n",
      "page 60 out of 309\n",
      "page 70 out of 309\n",
      "page 80 out of 309\n",
      "page 90 out of 309\n",
      "page 100 out of 309\n",
      "page 110 out of 309\n",
      "page 120 out of 309\n",
      "page 130 out of 309\n",
      "page 140 out of 309\n",
      "page 150 out of 309\n",
      "page 160 out of 309\n",
      "page 170 out of 309\n",
      "page 180 out of 309\n",
      "page 190 out of 309\n",
      "page 200 out of 309\n",
      "page 210 out of 309\n",
      "page 220 out of 309\n",
      "page 230 out of 309\n",
      "page 240 out of 309\n",
      "page 250 out of 309\n",
      "page 260 out of 309\n",
      "page 270 out of 309\n",
      "page 280 out of 309\n",
      "page 290 out of 309\n",
      "page 300 out of 309\n"
     ]
    }
   ],
   "source": [
    "all_collections = []\n",
    "for i in range(pages):\n",
    "    if i % 10 == 0:\n",
    "        print(\"page\", i, \"out of\", pages)\n",
    "    myJson = requests.get('https://api.biorxiv.org/covid19/' + str(i * 30)).json()\n",
    "    all_collections.append(myJson['collection'])"
   ]
  },
  {
   "cell_type": "code",
   "execution_count": 30,
   "metadata": {},
   "outputs": [],
   "source": [
    "all_articles_info = [None] * total_num_files\n",
    "i = 0\n",
    "for collection in all_collections:\n",
    "    for article in collection:\n",
    "        all_articles_info[i] = article\n",
    "        i += 1"
   ]
  },
  {
   "cell_type": "markdown",
   "metadata": {},
   "source": [
    "## Conctatenate all the articles in a  single DF\n",
    "As well as the authors with their corresponging institution"
   ]
  },
  {
   "cell_type": "code",
   "execution_count": 205,
   "metadata": {},
   "outputs": [
    {
     "name": "stdout",
     "output_type": "stream",
     "text": [
      "500 out of 9256\n",
      "10.1101/2020.09.16.297366\n",
      "1000 out of 9256\n",
      "10.1101/2020.08.27.20068346\n",
      "1500 out of 9256\n",
      "10.1101/2020.08.14.20175299\n",
      "2000 out of 9256\n",
      "10.1101/2020.08.04.235002\n",
      "2500 out of 9256\n",
      "10.1101/2020.07.15.20154955\n",
      "3000 out of 9256\n",
      "10.1101/2020.07.09.195008\n",
      "3500 out of 9256\n",
      "10.1101/2020.06.25.172510\n",
      "4000 out of 9256\n",
      "10.1101/2020.06.14.20131318\n",
      "4500 out of 9256\n",
      "10.1101/2020.06.03.20121459\n",
      "5000 out of 9256\n",
      "10.1101/2020.05.22.20106294\n",
      "5500 out of 9256\n",
      "10.1101/2020.05.15.20102715\n",
      "6000 out of 9256\n",
      "10.1101/2020.05.07.20094466\n",
      "6500 out of 9256\n",
      "10.1101/2020.04.28.20083956\n",
      "7000 out of 9256\n",
      "10.1101/2020.04.22.055327\n",
      "7500 out of 9256\n",
      "10.1101/2020.04.12.20062646\n",
      "8000 out of 9256\n",
      "10.1101/2020.03.30.20047365\n",
      "8500 out of 9256\n",
      "10.1101/2020.03.20.20040048\n",
      "9000 out of 9256\n",
      "10.1101/2020.02.23.20024802\n",
      "9256 out of 9256\n",
      "10.1101/782409\n"
     ]
    }
   ],
   "source": [
    "df = None\n",
    "df_authors = None\n",
    "\n",
    "articles = [None] * total_num_files\n",
    "authors = [None] * total_num_files * 1000\n",
    "a = 0\n",
    "for j, art in enumerate(all_articles_info):\n",
    "    if ((j + 1) % 500 == 0 or j + 1 == total_num_files):\n",
    "        print(j + 1, \"out of\", total_num_files)\n",
    "        print(art['rel_doi'])\n",
    "    rel_authors = art['rel_authors']\n",
    "    names = [\"\"] * len(rel_authors)\n",
    "    instits = []\n",
    "    for n, author in enumerate(rel_authors):\n",
    "        names[n] = author['author_name']\n",
    "        inst = author[\"author_inst\"]\n",
    "        author_info = {\"Author\": author[\"author_name\"], \"Institution\": inst}\n",
    "        author_df = pd.DataFrame(author_info, index = [0]).set_index(\"Author\")\n",
    "        authors[a] = author_df\n",
    "        a += 1\n",
    "        if inst not in instits:\n",
    "            instits.append(inst)\n",
    "    tempDf = pd.DataFrame(art).drop(\"rel_authors\", axis = 1).drop_duplicates()\n",
    "    tempDf[\"Authors\"] = [names]\n",
    "    tempDf[\"Institutions\"] = [instits]\n",
    "    articles[j] = tempDf\n",
    "df = pd.concat(articles)\n",
    "df_authors = pd.concat(authors)"
   ]
  },
  {
   "cell_type": "code",
   "execution_count": 206,
   "metadata": {},
   "outputs": [],
   "source": [
    "column_names = {'rel_doi': 'DOI',\n",
    "                'rel_title': 'Title',\n",
    "                'rel_date':'Date',\n",
    "                'rel_site':'Site',\n",
    "                'rel_link':'Link',\n",
    "                'rel_abs':'Abstract',\n",
    "                'rel_num_authors':'Num Authors'}\n",
    "df = df.rename(columns = column_names)\n",
    "df_authors = df_authors.drop_duplicates()\n",
    "df_authors = df_authors.reset_index()"
   ]
  },
  {
   "cell_type": "markdown",
   "metadata": {},
   "source": [
    "## Saving the Data Frames as csv"
   ]
  },
  {
   "cell_type": "code",
   "execution_count": 1,
   "metadata": {},
   "outputs": [
    {
     "ename": "NameError",
     "evalue": "name 'df' is not defined",
     "output_type": "error",
     "traceback": [
      "\u001b[0;31m---------------------------------------------------------------------------\u001b[0m",
      "\u001b[0;31mNameError\u001b[0m                                 Traceback (most recent call last)",
      "\u001b[0;32m<ipython-input-1-69c4257c761d>\u001b[0m in \u001b[0;36m<module>\u001b[0;34m\u001b[0m\n\u001b[0;32m----> 1\u001b[0;31m \u001b[0mdf\u001b[0m\u001b[0;34m.\u001b[0m\u001b[0mto_csv\u001b[0m\u001b[0;34m(\u001b[0m\u001b[0;34mr'covid-19_research.csv'\u001b[0m\u001b[0;34m,\u001b[0m \u001b[0mindex\u001b[0m \u001b[0;34m=\u001b[0m \u001b[0;32mFalse\u001b[0m\u001b[0;34m,\u001b[0m \u001b[0mheader\u001b[0m \u001b[0;34m=\u001b[0m \u001b[0;32mTrue\u001b[0m\u001b[0;34m)\u001b[0m\u001b[0;34m\u001b[0m\u001b[0;34m\u001b[0m\u001b[0m\n\u001b[0m",
      "\u001b[0;31mNameError\u001b[0m: name 'df' is not defined"
     ]
    }
   ],
   "source": [
    "df.to_csv(r'covid-19_research.csv', index = False, header = True)"
   ]
  },
  {
   "cell_type": "code",
   "execution_count": 208,
   "metadata": {},
   "outputs": [],
   "source": [
    "df_authors.drop_duplicates().to_csv(r'covid-19_authors.csv', index = False, header = True)"
   ]
  },
  {
   "cell_type": "code",
   "execution_count": 4,
   "metadata": {},
   "outputs": [
    {
     "name": "stdout",
     "output_type": "stream",
     "text": [
      "num dif authors 21856\n",
      "num dif institutions 23935\n",
      "num dif authors and institutions 23938\n"
     ]
    }
   ],
   "source": [
    "df_authors = pd.read_csv('covid-19_authors.csv')\n",
    "print('num dif authors', df_authors['Author'].drop_duplicates().shape[0])\n",
    "print('num dif institutions', df_authors['Institution'].drop_duplicates().shape[0])\n",
    "print('num dif authors and institutions', df_authors.shape[0])"
   ]
  },
  {
   "cell_type": "markdown",
   "metadata": {},
   "source": [
    "# Find countries mentioned in the abstract of each article"
   ]
  },
  {
   "cell_type": "code",
   "execution_count": 5,
   "metadata": {},
   "outputs": [
    {
     "data": {
      "text/html": [
       "<div>\n",
       "<style scoped>\n",
       "    .dataframe tbody tr th:only-of-type {\n",
       "        vertical-align: middle;\n",
       "    }\n",
       "\n",
       "    .dataframe tbody tr th {\n",
       "        vertical-align: top;\n",
       "    }\n",
       "\n",
       "    .dataframe thead th {\n",
       "        text-align: right;\n",
       "    }\n",
       "</style>\n",
       "<table border=\"1\" class=\"dataframe\">\n",
       "  <thead>\n",
       "    <tr style=\"text-align: right;\">\n",
       "      <th></th>\n",
       "      <th>DOI</th>\n",
       "      <th>Title</th>\n",
       "      <th>Date</th>\n",
       "      <th>Site</th>\n",
       "      <th>Link</th>\n",
       "      <th>Abstract</th>\n",
       "      <th>Num Authors</th>\n",
       "      <th>version</th>\n",
       "      <th>license</th>\n",
       "      <th>type</th>\n",
       "      <th>category</th>\n",
       "      <th>Authors</th>\n",
       "      <th>Institutions</th>\n",
       "    </tr>\n",
       "  </thead>\n",
       "  <tbody>\n",
       "    <tr>\n",
       "      <th>0</th>\n",
       "      <td>10.1101/2020.10.02.20199083</td>\n",
       "      <td>Performance of a rapid SARS-COV-2 serology tes...</td>\n",
       "      <td>2020-10-02</td>\n",
       "      <td>medRxiv</td>\n",
       "      <td>https://medrxiv.org/cgi/content/short/2020.10....</td>\n",
       "      <td>Rapid SARS-COV-2 related serology testing can ...</td>\n",
       "      <td>1</td>\n",
       "      <td>1</td>\n",
       "      <td>cc_no</td>\n",
       "      <td>PUBLISHAHEADOFPRINT</td>\n",
       "      <td>infectious diseases</td>\n",
       "      <td>['Sasank Vemulapati']</td>\n",
       "      <td>['Hermes Life Sciences']</td>\n",
       "    </tr>\n",
       "    <tr>\n",
       "      <th>1</th>\n",
       "      <td>10.1101/2020.10.01.20203711</td>\n",
       "      <td>Impact of COVID-19 lockdown on psychosocial fa...</td>\n",
       "      <td>2020-10-02</td>\n",
       "      <td>medRxiv</td>\n",
       "      <td>https://medrxiv.org/cgi/content/short/2020.10....</td>\n",
       "      <td>Background: Little is known about effects of C...</td>\n",
       "      <td>9</td>\n",
       "      <td>1</td>\n",
       "      <td>cc_by</td>\n",
       "      <td>PUBLISHAHEADOFPRINT</td>\n",
       "      <td>epidemiology</td>\n",
       "      <td>['Adele M Taylor', 'Danielle Page', 'Judith A ...</td>\n",
       "      <td>['The University of Edinburgh', 'University of...</td>\n",
       "    </tr>\n",
       "    <tr>\n",
       "      <th>2</th>\n",
       "      <td>10.1101/2020.10.01.20205146</td>\n",
       "      <td>An Integrated Framework with Machine Learning ...</td>\n",
       "      <td>2020-10-02</td>\n",
       "      <td>medRxiv</td>\n",
       "      <td>https://medrxiv.org/cgi/content/short/2020.10....</td>\n",
       "      <td>Early diagnosis of COVID-19 is considered the ...</td>\n",
       "      <td>6</td>\n",
       "      <td>1</td>\n",
       "      <td>cc_no</td>\n",
       "      <td>PUBLISHAHEADOFPRINT</td>\n",
       "      <td>radiology and imaging</td>\n",
       "      <td>['Mahbubunnabi Tamal', 'Maha Alshammari', 'Mee...</td>\n",
       "      <td>['Imam Abdulrahman Bin Faisal University, Damm...</td>\n",
       "    </tr>\n",
       "  </tbody>\n",
       "</table>\n",
       "</div>"
      ],
      "text/plain": [
       "                           DOI  \\\n",
       "0  10.1101/2020.10.02.20199083   \n",
       "1  10.1101/2020.10.01.20203711   \n",
       "2  10.1101/2020.10.01.20205146   \n",
       "\n",
       "                                               Title        Date     Site  \\\n",
       "0  Performance of a rapid SARS-COV-2 serology tes...  2020-10-02  medRxiv   \n",
       "1  Impact of COVID-19 lockdown on psychosocial fa...  2020-10-02  medRxiv   \n",
       "2  An Integrated Framework with Machine Learning ...  2020-10-02  medRxiv   \n",
       "\n",
       "                                                Link  \\\n",
       "0  https://medrxiv.org/cgi/content/short/2020.10....   \n",
       "1  https://medrxiv.org/cgi/content/short/2020.10....   \n",
       "2  https://medrxiv.org/cgi/content/short/2020.10....   \n",
       "\n",
       "                                            Abstract  Num Authors  version  \\\n",
       "0  Rapid SARS-COV-2 related serology testing can ...            1        1   \n",
       "1  Background: Little is known about effects of C...            9        1   \n",
       "2  Early diagnosis of COVID-19 is considered the ...            6        1   \n",
       "\n",
       "  license                 type               category  \\\n",
       "0   cc_no  PUBLISHAHEADOFPRINT    infectious diseases   \n",
       "1   cc_by  PUBLISHAHEADOFPRINT           epidemiology   \n",
       "2   cc_no  PUBLISHAHEADOFPRINT  radiology and imaging   \n",
       "\n",
       "                                             Authors  \\\n",
       "0                              ['Sasank Vemulapati']   \n",
       "1  ['Adele M Taylor', 'Danielle Page', 'Judith A ...   \n",
       "2  ['Mahbubunnabi Tamal', 'Maha Alshammari', 'Mee...   \n",
       "\n",
       "                                        Institutions  \n",
       "0                           ['Hermes Life Sciences']  \n",
       "1  ['The University of Edinburgh', 'University of...  \n",
       "2  ['Imam Abdulrahman Bin Faisal University, Damm...  "
      ]
     },
     "execution_count": 5,
     "metadata": {},
     "output_type": "execute_result"
    }
   ],
   "source": [
    "df = pd.read_csv('covid-19_research.csv')\n",
    "df.head(3)"
   ]
  },
  {
   "cell_type": "code",
   "execution_count": 6,
   "metadata": {},
   "outputs": [],
   "source": [
    "co = pd.read_csv('countries of the world.csv')\n",
    "countries = list(co['Country'].str.strip())"
   ]
  },
  {
   "cell_type": "code",
   "execution_count": 177,
   "metadata": {},
   "outputs": [],
   "source": [
    "abstracts = df['Abstract']\n",
    "dict_countries = {}\n",
    "all_dois_country = [None] * len(countries)\n",
    "for i, country in enumerate(countries):\n",
    "    filt = (abstracts.str.find(country) > -1)\n",
    "    times_ment = abstracts[filt].count()\n",
    "    all_dois_country[i] = list(df[filt]['DOI'])\n",
    "    dict_countries[country] = times_ment"
   ]
  },
  {
   "cell_type": "code",
   "execution_count": 178,
   "metadata": {},
   "outputs": [],
   "source": [
    "country_appears = sorted(list(dict_countries.items()), key = lambda x:x[1], reverse = True)\n",
    "toDF = {'Country': list(dict_countries.keys()), 'Times Mentioned': list(dict_countries.values())}\n",
    "toDF[\"DOIs\"] = all_dois_country\n",
    "countryDf = pd.DataFrame(toDF).sort_values('Times Mentioned', ascending = False)\n",
    "countryDf.to_csv(r'covid-19_Countries_Mentioned.csv', index = False, header = True)"
   ]
  },
  {
   "cell_type": "code",
   "execution_count": 7,
   "metadata": {},
   "outputs": [
    {
     "data": {
      "text/html": [
       "<div>\n",
       "<style scoped>\n",
       "    .dataframe tbody tr th:only-of-type {\n",
       "        vertical-align: middle;\n",
       "    }\n",
       "\n",
       "    .dataframe tbody tr th {\n",
       "        vertical-align: top;\n",
       "    }\n",
       "\n",
       "    .dataframe thead th {\n",
       "        text-align: right;\n",
       "    }\n",
       "</style>\n",
       "<table border=\"1\" class=\"dataframe\">\n",
       "  <thead>\n",
       "    <tr style=\"text-align: right;\">\n",
       "      <th></th>\n",
       "      <th>Country</th>\n",
       "      <th>Times Mentioned</th>\n",
       "      <th>DOIs</th>\n",
       "    </tr>\n",
       "  </thead>\n",
       "  <tbody>\n",
       "    <tr>\n",
       "      <th>0</th>\n",
       "      <td>China</td>\n",
       "      <td>1243</td>\n",
       "      <td>['10.1101/2020.10.01.20205021', '10.1101/2020....</td>\n",
       "    </tr>\n",
       "    <tr>\n",
       "      <th>1</th>\n",
       "      <td>Italy</td>\n",
       "      <td>433</td>\n",
       "      <td>['10.1101/2020.09.29.20204289', '10.1101/2020....</td>\n",
       "    </tr>\n",
       "    <tr>\n",
       "      <th>2</th>\n",
       "      <td>United States</td>\n",
       "      <td>393</td>\n",
       "      <td>['10.1101/2020.10.01.20205021', '10.1101/2020....</td>\n",
       "    </tr>\n",
       "    <tr>\n",
       "      <th>3</th>\n",
       "      <td>India</td>\n",
       "      <td>334</td>\n",
       "      <td>['10.1101/2020.10.01.20205021', '10.1101/2020....</td>\n",
       "    </tr>\n",
       "    <tr>\n",
       "      <th>4</th>\n",
       "      <td>Spain</td>\n",
       "      <td>240</td>\n",
       "      <td>['10.1101/2020.10.01.20205021', '10.1101/2020....</td>\n",
       "    </tr>\n",
       "    <tr>\n",
       "      <th>5</th>\n",
       "      <td>Brazil</td>\n",
       "      <td>203</td>\n",
       "      <td>['10.1101/2020.10.01.20205120', '10.1101/2020....</td>\n",
       "    </tr>\n",
       "    <tr>\n",
       "      <th>6</th>\n",
       "      <td>Germany</td>\n",
       "      <td>191</td>\n",
       "      <td>['10.1101/2020.10.02.20188136', '10.1101/2020....</td>\n",
       "    </tr>\n",
       "    <tr>\n",
       "      <th>7</th>\n",
       "      <td>France</td>\n",
       "      <td>177</td>\n",
       "      <td>['10.1101/2020.09.29.20203760', '10.1101/2020....</td>\n",
       "    </tr>\n",
       "    <tr>\n",
       "      <th>8</th>\n",
       "      <td>Japan</td>\n",
       "      <td>128</td>\n",
       "      <td>['10.1101/2020.09.27.20202739', '10.1101/2020....</td>\n",
       "    </tr>\n",
       "    <tr>\n",
       "      <th>9</th>\n",
       "      <td>Iran</td>\n",
       "      <td>107</td>\n",
       "      <td>['10.1101/2020.10.01.20205021', '10.1101/2020....</td>\n",
       "    </tr>\n",
       "  </tbody>\n",
       "</table>\n",
       "</div>"
      ],
      "text/plain": [
       "         Country  Times Mentioned  \\\n",
       "0          China             1243   \n",
       "1          Italy              433   \n",
       "2  United States              393   \n",
       "3          India              334   \n",
       "4          Spain              240   \n",
       "5         Brazil              203   \n",
       "6        Germany              191   \n",
       "7         France              177   \n",
       "8          Japan              128   \n",
       "9           Iran              107   \n",
       "\n",
       "                                                DOIs  \n",
       "0  ['10.1101/2020.10.01.20205021', '10.1101/2020....  \n",
       "1  ['10.1101/2020.09.29.20204289', '10.1101/2020....  \n",
       "2  ['10.1101/2020.10.01.20205021', '10.1101/2020....  \n",
       "3  ['10.1101/2020.10.01.20205021', '10.1101/2020....  \n",
       "4  ['10.1101/2020.10.01.20205021', '10.1101/2020....  \n",
       "5  ['10.1101/2020.10.01.20205120', '10.1101/2020....  \n",
       "6  ['10.1101/2020.10.02.20188136', '10.1101/2020....  \n",
       "7  ['10.1101/2020.09.29.20203760', '10.1101/2020....  \n",
       "8  ['10.1101/2020.09.27.20202739', '10.1101/2020....  \n",
       "9  ['10.1101/2020.10.01.20205021', '10.1101/2020....  "
      ]
     },
     "execution_count": 7,
     "metadata": {},
     "output_type": "execute_result"
    }
   ],
   "source": [
    "countryDf = pd.read_csv(\"covid-19_Countries_Mentioned.csv\")\n",
    "countryDf.head(10)"
   ]
  },
  {
   "cell_type": "markdown",
   "metadata": {},
   "source": [
    "## Get the papers each Author contributed to"
   ]
  },
  {
   "cell_type": "code",
   "execution_count": null,
   "metadata": {},
   "outputs": [],
   "source": [
    "authors = pd.read_csv('covid-19_authors.csv')['Author'].drop_duplicates()\n",
    "dois_and_authors = df['Authors']\n",
    "dict_authors = {}\n",
    "all_authors_dois = [None] * authors.shape[0]\n",
    "for i, author in enumerate(authors):\n",
    "    if (i + 1) % 2000 == 0:\n",
    "        print(i + 1, \"out of\", authors.shape[0])\n",
    "    space = \" \"\n",
    "    filt = dois_and_authors.str.find(author) >= 0\n",
    "    counter = dois_and_authors[filt].count()\n",
    "    all_authors_dois[i] = list(df[filt]['DOI'])\n",
    "    dict_authors[author] = counter"
   ]
  },
  {
   "cell_type": "code",
   "execution_count": 268,
   "metadata": {},
   "outputs": [],
   "source": [
    "aut = list(dict_authors.keys())\n",
    "count = list(dict_authors.values())\n",
    "all_authors = pd.DataFrame({\"Author\":aut,\n",
    "                            \"Num of Papers\":count,\n",
    "                            \"DOIs\":all_authors_dois}).sort_values(\"Num of Papers\", ascending = False)\n",
    "all_authors.to_csv('Authors_with_papers.csv', index = False, header = True)\n",
    "all_authors = pd.read_csv(\"Authors_with_papers.csv\")"
   ]
  },
  {
   "cell_type": "markdown",
   "metadata": {},
   "source": [
    "## Get the papers published by each institution\n",
    "This probably has some bugs, since it reads - and Italy as Insitutions"
   ]
  },
  {
   "cell_type": "code",
   "execution_count": null,
   "metadata": {},
   "outputs": [],
   "source": [
    "insts = pd.read_csv('covid-19_authors.csv')['Institution'].drop_duplicates()\n",
    "dois_and_insts = df['Institutions']\n",
    "dict_insts = {}\n",
    "all_insts_dois = [None] * insts.shape[0]\n",
    "for i, inst in enumerate(insts):\n",
    "    if (i + 1) % 2000 == 0:\n",
    "        print(i + 1, \"out of\", insts.shape[0])\n",
    "    try:\n",
    "        filt = dois_and_insts.str.find(inst) >= 0\n",
    "        counter = dois_and_insts[filt].count()\n",
    "        dict_insts[inst] = (counter, list(df[filt]['DOI']))\n",
    "    except:\n",
    "        continue"
   ]
  },
  {
   "cell_type": "code",
   "execution_count": 280,
   "metadata": {},
   "outputs": [],
   "source": [
    "institutions = list(dict_insts.keys())\n",
    "count_and_dois = list(dict_insts.values())\n",
    "all_institutions = pd.DataFrame({\"Institution\":institutions,\n",
    "                                 \"info\":count_and_dois})\n",
    "#\n",
    "#all_institutions = pd.read_csv(\"Institutions_with_papers.csv\")\n",
    "all_institutions[\"Num of Papers\"] = all_institutions[\"info\"].apply(lambda x: x[0])\n",
    "all_institutions[\"DOIs\"] = all_institutions[\"info\"].apply(lambda x: x[1])\n",
    "all_institutions = all_institutions.drop(\"info\", axis = 1)"
   ]
  },
  {
   "cell_type": "code",
   "execution_count": 282,
   "metadata": {},
   "outputs": [],
   "source": [
    "all_institutions.sort_values(\"Num of Papers\", ascending = False).to_csv('Institutions_with_papers.csv', index = False, header = True)"
   ]
  },
  {
   "cell_type": "code",
   "execution_count": 8,
   "metadata": {},
   "outputs": [
    {
     "data": {
      "text/html": [
       "<div>\n",
       "<style scoped>\n",
       "    .dataframe tbody tr th:only-of-type {\n",
       "        vertical-align: middle;\n",
       "    }\n",
       "\n",
       "    .dataframe tbody tr th {\n",
       "        vertical-align: top;\n",
       "    }\n",
       "\n",
       "    .dataframe thead th {\n",
       "        text-align: right;\n",
       "    }\n",
       "</style>\n",
       "<table border=\"1\" class=\"dataframe\">\n",
       "  <thead>\n",
       "    <tr style=\"text-align: right;\">\n",
       "      <th></th>\n",
       "      <th>Institution</th>\n",
       "      <th>Num of Papers</th>\n",
       "      <th>DOIs</th>\n",
       "    </tr>\n",
       "  </thead>\n",
       "  <tbody>\n",
       "    <tr>\n",
       "      <th>3</th>\n",
       "      <td>Oxford</td>\n",
       "      <td>1224</td>\n",
       "      <td>['10.1101/2020.10.02.20198663', '10.1101/2020....</td>\n",
       "    </tr>\n",
       "    <tr>\n",
       "      <th>4</th>\n",
       "      <td>University of California</td>\n",
       "      <td>1080</td>\n",
       "      <td>['10.1101/2020.10.02.323915', '10.1101/2020.09...</td>\n",
       "    </tr>\n",
       "    <tr>\n",
       "      <th>5</th>\n",
       "      <td>University of Oxford</td>\n",
       "      <td>995</td>\n",
       "      <td>['10.1101/2020.10.02.20198663', '10.1101/2020....</td>\n",
       "    </tr>\n",
       "    <tr>\n",
       "      <th>6</th>\n",
       "      <td>NHS</td>\n",
       "      <td>958</td>\n",
       "      <td>['10.1101/2020.10.02.20205641', '10.1101/2020....</td>\n",
       "    </tr>\n",
       "    <tr>\n",
       "      <th>7</th>\n",
       "      <td>Harvard</td>\n",
       "      <td>786</td>\n",
       "      <td>['10.1101/2020.09.30.20199828', '10.1101/2020....</td>\n",
       "    </tr>\n",
       "    <tr>\n",
       "      <th>8</th>\n",
       "      <td>Imperial</td>\n",
       "      <td>718</td>\n",
       "      <td>['10.1101/2020.09.30.20204727', '10.1101/2020....</td>\n",
       "    </tr>\n",
       "    <tr>\n",
       "      <th>9</th>\n",
       "      <td>Imperial College</td>\n",
       "      <td>714</td>\n",
       "      <td>['10.1101/2020.09.30.20204727', '10.1101/2020....</td>\n",
       "    </tr>\n",
       "    <tr>\n",
       "      <th>10</th>\n",
       "      <td>Mount Sinai</td>\n",
       "      <td>703</td>\n",
       "      <td>['10.1101/2020.10.01.20205088', '10.1101/2020....</td>\n",
       "    </tr>\n",
       "    <tr>\n",
       "      <th>11</th>\n",
       "      <td>Italy</td>\n",
       "      <td>669</td>\n",
       "      <td>['10.1101/2020.09.30.20204560', '10.1101/2020....</td>\n",
       "    </tr>\n",
       "    <tr>\n",
       "      <th>12</th>\n",
       "      <td>University of Science and Technology</td>\n",
       "      <td>665</td>\n",
       "      <td>['10.1101/2020.09.30.20204644', '10.1101/2020....</td>\n",
       "    </tr>\n",
       "  </tbody>\n",
       "</table>\n",
       "</div>"
      ],
      "text/plain": [
       "                             Institution  Num of Papers  \\\n",
       "3                                 Oxford           1224   \n",
       "4               University of California           1080   \n",
       "5                   University of Oxford            995   \n",
       "6                                    NHS            958   \n",
       "7                                Harvard            786   \n",
       "8                               Imperial            718   \n",
       "9                       Imperial College            714   \n",
       "10                           Mount Sinai            703   \n",
       "11                                 Italy            669   \n",
       "12  University of Science and Technology            665   \n",
       "\n",
       "                                                 DOIs  \n",
       "3   ['10.1101/2020.10.02.20198663', '10.1101/2020....  \n",
       "4   ['10.1101/2020.10.02.323915', '10.1101/2020.09...  \n",
       "5   ['10.1101/2020.10.02.20198663', '10.1101/2020....  \n",
       "6   ['10.1101/2020.10.02.20205641', '10.1101/2020....  \n",
       "7   ['10.1101/2020.09.30.20199828', '10.1101/2020....  \n",
       "8   ['10.1101/2020.09.30.20204727', '10.1101/2020....  \n",
       "9   ['10.1101/2020.09.30.20204727', '10.1101/2020....  \n",
       "10  ['10.1101/2020.10.01.20205088', '10.1101/2020....  \n",
       "11  ['10.1101/2020.09.30.20204560', '10.1101/2020....  \n",
       "12  ['10.1101/2020.09.30.20204644', '10.1101/2020....  "
      ]
     },
     "execution_count": 8,
     "metadata": {},
     "output_type": "execute_result"
    }
   ],
   "source": [
    "all_institutions = pd.read_csv(\"Institutions_with_papers.csv\")[3:]\n",
    "all_institutions.head(10)"
   ]
  },
  {
   "cell_type": "code",
   "execution_count": null,
   "metadata": {},
   "outputs": [],
   "source": []
  }
 ],
 "metadata": {
  "kernelspec": {
   "display_name": "Python 3",
   "language": "python",
   "name": "python3"
  },
  "language_info": {
   "codemirror_mode": {
    "name": "ipython",
    "version": 3
   },
   "file_extension": ".py",
   "mimetype": "text/x-python",
   "name": "python",
   "nbconvert_exporter": "python",
   "pygments_lexer": "ipython3",
   "version": "3.6.10"
  }
 },
 "nbformat": 4,
 "nbformat_minor": 4
}
