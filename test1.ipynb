{
 "cells": [
  {
   "cell_type": "code",
   "execution_count": 1,
   "metadata": {},
   "outputs": [
    {
     "data": {
      "text/html": [
       "<div>\n",
       "<style scoped>\n",
       "    .dataframe tbody tr th:only-of-type {\n",
       "        vertical-align: middle;\n",
       "    }\n",
       "\n",
       "    .dataframe tbody tr th {\n",
       "        vertical-align: top;\n",
       "    }\n",
       "\n",
       "    .dataframe thead th {\n",
       "        text-align: right;\n",
       "    }\n",
       "</style>\n",
       "<table border=\"1\" class=\"dataframe\">\n",
       "  <thead>\n",
       "    <tr style=\"text-align: right;\">\n",
       "      <th></th>\n",
       "      <th>Date</th>\n",
       "      <th>Abstract</th>\n",
       "      <th>DOI</th>\n",
       "      <th>Uncertainty</th>\n",
       "    </tr>\n",
       "  </thead>\n",
       "  <tbody>\n",
       "    <tr>\n",
       "      <th>0</th>\n",
       "      <td>2020-10-02</td>\n",
       "      <td>Rapid SARS-COV-2 related serology testing can ...</td>\n",
       "      <td>10.1101/2020.10.02.20199083</td>\n",
       "      <td>2.242152</td>\n",
       "    </tr>\n",
       "    <tr>\n",
       "      <th>1</th>\n",
       "      <td>2020-10-02</td>\n",
       "      <td>Background: Little is known about effects of C...</td>\n",
       "      <td>10.1101/2020.10.01.20203711</td>\n",
       "      <td>4.149378</td>\n",
       "    </tr>\n",
       "    <tr>\n",
       "      <th>2</th>\n",
       "      <td>2020-10-02</td>\n",
       "      <td>Early diagnosis of COVID-19 is considered the ...</td>\n",
       "      <td>10.1101/2020.10.01.20205146</td>\n",
       "      <td>3.909465</td>\n",
       "    </tr>\n",
       "    <tr>\n",
       "      <th>3</th>\n",
       "      <td>2020-10-02</td>\n",
       "      <td>Coronavirus disease-19 (COVID-19) transmits by...</td>\n",
       "      <td>10.1101/2020.09.30.20199828</td>\n",
       "      <td>4.395604</td>\n",
       "    </tr>\n",
       "    <tr>\n",
       "      <th>4</th>\n",
       "      <td>2020-10-02</td>\n",
       "      <td>Introduction Coronavirus Disease 2019 (COVID-1...</td>\n",
       "      <td>10.1101/2020.10.01.20205112</td>\n",
       "      <td>6.217617</td>\n",
       "    </tr>\n",
       "  </tbody>\n",
       "</table>\n",
       "</div>"
      ],
      "text/plain": [
       "         Date                                           Abstract  \\\n",
       "0  2020-10-02  Rapid SARS-COV-2 related serology testing can ...   \n",
       "1  2020-10-02  Background: Little is known about effects of C...   \n",
       "2  2020-10-02  Early diagnosis of COVID-19 is considered the ...   \n",
       "3  2020-10-02  Coronavirus disease-19 (COVID-19) transmits by...   \n",
       "4  2020-10-02  Introduction Coronavirus Disease 2019 (COVID-1...   \n",
       "\n",
       "                           DOI  Uncertainty  \n",
       "0  10.1101/2020.10.02.20199083     2.242152  \n",
       "1  10.1101/2020.10.01.20203711     4.149378  \n",
       "2  10.1101/2020.10.01.20205146     3.909465  \n",
       "3  10.1101/2020.09.30.20199828     4.395604  \n",
       "4  10.1101/2020.10.01.20205112     6.217617  "
      ]
     },
     "execution_count": 1,
     "metadata": {},
     "output_type": "execute_result"
    }
   ],
   "source": [
    "import pandas as pd\n",
    "df = pd.read_csv(\"Articles_and_uncertainty.csv\")\n",
    "df.head()"
   ]
  },
  {
   "cell_type": "code",
   "execution_count": null,
   "metadata": {},
   "outputs": [],
   "source": []
  }
 ],
 "metadata": {
  "kernelspec": {
   "display_name": "Python 3",
   "language": "python",
   "name": "python3"
  },
  "language_info": {
   "codemirror_mode": {
    "name": "ipython",
    "version": 3
   },
   "file_extension": ".py",
   "mimetype": "text/x-python",
   "name": "python",
   "nbconvert_exporter": "python",
   "pygments_lexer": "ipython3",
   "version": "3.7.6"
  }
 },
 "nbformat": 4,
 "nbformat_minor": 4
}
