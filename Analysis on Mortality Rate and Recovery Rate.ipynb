{
 "cells": [
  {
   "cell_type": "code",
   "execution_count": 1,
   "metadata": {},
   "outputs": [],
   "source": [
    "import pandas as pd\n",
    "import numpy as np\n",
    "import seaborn as sns\n",
    "import matplotlib.pyplot as plt"
   ]
  },
  {
   "cell_type": "code",
   "execution_count": 63,
   "metadata": {},
   "outputs": [
    {
     "name": "stdout",
     "output_type": "stream",
     "text": [
      "(188, 2)\n"
     ]
    },
    {
     "data": {
      "text/html": [
       "<div>\n",
       "<style scoped>\n",
       "    .dataframe tbody tr th:only-of-type {\n",
       "        vertical-align: middle;\n",
       "    }\n",
       "\n",
       "    .dataframe tbody tr th {\n",
       "        vertical-align: top;\n",
       "    }\n",
       "\n",
       "    .dataframe thead th {\n",
       "        text-align: right;\n",
       "    }\n",
       "</style>\n",
       "<table border=\"1\" class=\"dataframe\">\n",
       "  <thead>\n",
       "    <tr style=\"text-align: right;\">\n",
       "      <th></th>\n",
       "      <th>Country/Region</th>\n",
       "      <th>Total Cases</th>\n",
       "    </tr>\n",
       "  </thead>\n",
       "  <tbody>\n",
       "    <tr>\n",
       "      <th>174</th>\n",
       "      <td>US</td>\n",
       "      <td>622342313</td>\n",
       "    </tr>\n",
       "    <tr>\n",
       "      <th>23</th>\n",
       "      <td>Brazil</td>\n",
       "      <td>344491052</td>\n",
       "    </tr>\n",
       "    <tr>\n",
       "      <th>79</th>\n",
       "      <td>India</td>\n",
       "      <td>294665410</td>\n",
       "    </tr>\n",
       "    <tr>\n",
       "      <th>140</th>\n",
       "      <td>Russia</td>\n",
       "      <td>111895180</td>\n",
       "    </tr>\n",
       "    <tr>\n",
       "      <th>134</th>\n",
       "      <td>Peru</td>\n",
       "      <td>60960588</td>\n",
       "    </tr>\n",
       "    <tr>\n",
       "      <th>158</th>\n",
       "      <td>Spain</td>\n",
       "      <td>59591451</td>\n",
       "    </tr>\n",
       "    <tr>\n",
       "      <th>113</th>\n",
       "      <td>Mexico</td>\n",
       "      <td>54516747</td>\n",
       "    </tr>\n",
       "    <tr>\n",
       "      <th>156</th>\n",
       "      <td>South Africa</td>\n",
       "      <td>51969517</td>\n",
       "    </tr>\n",
       "    <tr>\n",
       "      <th>178</th>\n",
       "      <td>United Kingdom</td>\n",
       "      <td>50393375</td>\n",
       "    </tr>\n",
       "    <tr>\n",
       "      <th>37</th>\n",
       "      <td>Colombia</td>\n",
       "      <td>46062161</td>\n",
       "    </tr>\n",
       "  </tbody>\n",
       "</table>\n",
       "</div>"
      ],
      "text/plain": [
       "     Country/Region  Total Cases\n",
       "174              US    622342313\n",
       "23           Brazil    344491052\n",
       "79            India    294665410\n",
       "140          Russia    111895180\n",
       "134            Peru     60960588\n",
       "158           Spain     59591451\n",
       "113          Mexico     54516747\n",
       "156    South Africa     51969517\n",
       "178  United Kingdom     50393375\n",
       "37         Colombia     46062161"
      ]
     },
     "execution_count": 63,
     "metadata": {},
     "output_type": "execute_result"
    }
   ],
   "source": [
    "df = pd.read_csv('time_series_covid19_confirmed_global.csv')\n",
    "df_confirmed = df.iloc[:,1:]\n",
    "df_confirmed['Total Cases'] = df_confirmed.iloc[:,3:].sum(axis = 1)\n",
    "df_confirmed = df_confirmed[[\"Country/Region\",\"Total Cases\"]]\n",
    "df_confirmed = df_confirmed.groupby(\"Country/Region\").sum().reset_index()\n",
    "df_confirmed = df_confirmed.sort_values(\"Total Cases\", ascending = False)\n",
    "print(df_confirmed.shape)\n",
    "df_confirmed.head(10)"
   ]
  },
  {
   "cell_type": "code",
   "execution_count": 81,
   "metadata": {},
   "outputs": [
    {
     "name": "stderr",
     "output_type": "stream",
     "text": [
      "/home/cs582/anaconda3/envs/py36/lib/python3.6/site-packages/seaborn/_decorators.py:43: FutureWarning: Pass the following variables as keyword args: x, y. From version 0.12, the only valid positional argument will be `data`, and passing other arguments without an explicit keyword will result in an error or misinterpretation.\n",
      "  FutureWarning\n"
     ]
    },
    {
     "data": {
      "text/plain": [
       "Text(0.5, 1.0, 'Confirmed Cases by Country')"
      ]
     },
     "execution_count": 81,
     "metadata": {},
     "output_type": "execute_result"
    },
    {
     "data": {
      "image/png": "[encoded data removed]",
      "text/plain": [
       "<Figure size 432x288 with 1 Axes>"
      ]
     },
     "metadata": {
      "needs_background": "light"
     },
     "output_type": "display_data"
    }
   ],
   "source": [
    "top = 13\n",
    "ax = sns.barplot(df_confirmed.head(top)[\"Total Cases\"], df_confirmed.head(top)[\"Country/Region\"])\n",
    "plt.title(\"Confirmed Cases by Country\")"
   ]
  },
  {
   "cell_type": "code",
   "execution_count": 67,
   "metadata": {},
   "outputs": [
    {
     "data": {
      "text/html": [
       "<div>\n",
       "<style scoped>\n",
       "    .dataframe tbody tr th:only-of-type {\n",
       "        vertical-align: middle;\n",
       "    }\n",
       "\n",
       "    .dataframe tbody tr th {\n",
       "        vertical-align: top;\n",
       "    }\n",
       "\n",
       "    .dataframe thead th {\n",
       "        text-align: right;\n",
       "    }\n",
       "</style>\n",
       "<table border=\"1\" class=\"dataframe\">\n",
       "  <thead>\n",
       "    <tr style=\"text-align: right;\">\n",
       "      <th></th>\n",
       "      <th>Country/Region</th>\n",
       "      <th>Total Deaths</th>\n",
       "    </tr>\n",
       "  </thead>\n",
       "  <tbody>\n",
       "    <tr>\n",
       "      <th>174</th>\n",
       "      <td>US</td>\n",
       "      <td>23334501</td>\n",
       "    </tr>\n",
       "    <tr>\n",
       "      <th>23</th>\n",
       "      <td>Brazil</td>\n",
       "      <td>11939562</td>\n",
       "    </tr>\n",
       "    <tr>\n",
       "      <th>178</th>\n",
       "      <td>United Kingdom</td>\n",
       "      <td>6577829</td>\n",
       "    </tr>\n",
       "    <tr>\n",
       "      <th>85</th>\n",
       "      <td>Italy</td>\n",
       "      <td>6085127</td>\n",
       "    </tr>\n",
       "    <tr>\n",
       "      <th>113</th>\n",
       "      <td>Mexico</td>\n",
       "      <td>5968206</td>\n",
       "    </tr>\n",
       "    <tr>\n",
       "      <th>79</th>\n",
       "      <td>India</td>\n",
       "      <td>5512739</td>\n",
       "    </tr>\n",
       "    <tr>\n",
       "      <th>62</th>\n",
       "      <td>France</td>\n",
       "      <td>5111366</td>\n",
       "    </tr>\n",
       "    <tr>\n",
       "      <th>158</th>\n",
       "      <td>Spain</td>\n",
       "      <td>5008271</td>\n",
       "    </tr>\n",
       "    <tr>\n",
       "      <th>134</th>\n",
       "      <td>Peru</td>\n",
       "      <td>2475270</td>\n",
       "    </tr>\n",
       "    <tr>\n",
       "      <th>81</th>\n",
       "      <td>Iran</td>\n",
       "      <td>2459001</td>\n",
       "    </tr>\n",
       "  </tbody>\n",
       "</table>\n",
       "</div>"
      ],
      "text/plain": [
       "     Country/Region  Total Deaths\n",
       "174              US      23334501\n",
       "23           Brazil      11939562\n",
       "178  United Kingdom       6577829\n",
       "85            Italy       6085127\n",
       "113          Mexico       5968206\n",
       "79            India       5512739\n",
       "62           France       5111366\n",
       "158           Spain       5008271\n",
       "134            Peru       2475270\n",
       "81             Iran       2459001"
      ]
     },
     "execution_count": 67,
     "metadata": {},
     "output_type": "execute_result"
    }
   ],
   "source": [
    "df2 = pd.read_csv(\"time_series_covid19_deaths_global.csv\")\n",
    "df_deaths = df2.iloc[:,1:]\n",
    "df_deaths['Total Deaths'] = df_deaths.iloc[:,3:].sum(axis = 1)\n",
    "df_deaths = df_deaths[[\"Country/Region\",\"Total Deaths\"]]\n",
    "df_deaths = df_deaths.groupby(\"Country/Region\").sum().reset_index()\n",
    "df_deaths = df_deaths.sort_values(\"Total Deaths\", ascending = False)\n",
    "df_deaths.head(10)"
   ]
  },
  {
   "cell_type": "code",
   "execution_count": 82,
   "metadata": {},
   "outputs": [
    {
     "name": "stderr",
     "output_type": "stream",
     "text": [
      "/home/cs582/anaconda3/envs/py36/lib/python3.6/site-packages/seaborn/_decorators.py:43: FutureWarning: Pass the following variables as keyword args: x, y. From version 0.12, the only valid positional argument will be `data`, and passing other arguments without an explicit keyword will result in an error or misinterpretation.\n",
      "  FutureWarning\n"
     ]
    },
    {
     "data": {
      "text/plain": [
       "Text(0.5, 1.0, 'Deaths by Country')"
      ]
     },
     "execution_count": 82,
     "metadata": {},
     "output_type": "execute_result"
    },
    {
     "data": {
      "image/png": "[encoded data removed]",
      "text/plain": [
       "<Figure size 432x288 with 1 Axes>"
      ]
     },
     "metadata": {
      "needs_background": "light"
     },
     "output_type": "display_data"
    }
   ],
   "source": [
    "top = 13\n",
    "ax = sns.barplot(df_deaths.head(top)[\"Total Deaths\"], df_deaths.head(top)[\"Country/Region\"])\n",
    "plt.title(\"Deaths by Country\")"
   ]
  },
  {
   "cell_type": "code",
   "execution_count": 83,
   "metadata": {},
   "outputs": [
    {
     "data": {
      "text/html": [
       "<div>\n",
       "<style scoped>\n",
       "    .dataframe tbody tr th:only-of-type {\n",
       "        vertical-align: middle;\n",
       "    }\n",
       "\n",
       "    .dataframe tbody tr th {\n",
       "        vertical-align: top;\n",
       "    }\n",
       "\n",
       "    .dataframe thead th {\n",
       "        text-align: right;\n",
       "    }\n",
       "</style>\n",
       "<table border=\"1\" class=\"dataframe\">\n",
       "  <thead>\n",
       "    <tr style=\"text-align: right;\">\n",
       "      <th></th>\n",
       "      <th>Country/Region</th>\n",
       "      <th>Total Recoveries</th>\n",
       "    </tr>\n",
       "  </thead>\n",
       "  <tbody>\n",
       "    <tr>\n",
       "      <th>23</th>\n",
       "      <td>Brazil</td>\n",
       "      <td>267838682</td>\n",
       "    </tr>\n",
       "    <tr>\n",
       "      <th>79</th>\n",
       "      <td>India</td>\n",
       "      <td>220064065</td>\n",
       "    </tr>\n",
       "    <tr>\n",
       "      <th>174</th>\n",
       "      <td>US</td>\n",
       "      <td>200048855</td>\n",
       "    </tr>\n",
       "    <tr>\n",
       "      <th>140</th>\n",
       "      <td>Russia</td>\n",
       "      <td>78713374</td>\n",
       "    </tr>\n",
       "    <tr>\n",
       "      <th>113</th>\n",
       "      <td>Mexico</td>\n",
       "      <td>43751031</td>\n",
       "    </tr>\n",
       "    <tr>\n",
       "      <th>134</th>\n",
       "      <td>Peru</td>\n",
       "      <td>41907729</td>\n",
       "    </tr>\n",
       "    <tr>\n",
       "      <th>156</th>\n",
       "      <td>South Africa</td>\n",
       "      <td>39928748</td>\n",
       "    </tr>\n",
       "    <tr>\n",
       "      <th>35</th>\n",
       "      <td>Chile</td>\n",
       "      <td>38917156</td>\n",
       "    </tr>\n",
       "    <tr>\n",
       "      <th>81</th>\n",
       "      <td>Iran</td>\n",
       "      <td>36749593</td>\n",
       "    </tr>\n",
       "    <tr>\n",
       "      <th>37</th>\n",
       "      <td>Colombia</td>\n",
       "      <td>32246465</td>\n",
       "    </tr>\n",
       "  </tbody>\n",
       "</table>\n",
       "</div>"
      ],
      "text/plain": [
       "    Country/Region  Total Recoveries\n",
       "23          Brazil         267838682\n",
       "79           India         220064065\n",
       "174             US         200048855\n",
       "140         Russia          78713374\n",
       "113         Mexico          43751031\n",
       "134           Peru          41907729\n",
       "156   South Africa          39928748\n",
       "35           Chile          38917156\n",
       "81            Iran          36749593\n",
       "37        Colombia          32246465"
      ]
     },
     "execution_count": 83,
     "metadata": {},
     "output_type": "execute_result"
    }
   ],
   "source": [
    "df3 = pd.read_csv(\"time_series_covid19_recovered_global.csv\")\n",
    "df_recovered = df3.iloc[:,1:]\n",
    "df_recovered['Total Recoveries'] = df_recovered.iloc[:,3:].sum(axis = 1)\n",
    "df_recovered = df_recovered[[\"Country/Region\",\"Total Recoveries\"]]\n",
    "df_recovered = df_recovered.groupby(\"Country/Region\").sum().reset_index()\n",
    "df_recovered = df_recovered.sort_values(\"Total Recoveries\", ascending = False)\n",
    "df_recovered.head(10)"
   ]
  },
  {
   "cell_type": "code",
   "execution_count": 84,
   "metadata": {},
   "outputs": [
    {
     "name": "stderr",
     "output_type": "stream",
     "text": [
      "/home/cs582/anaconda3/envs/py36/lib/python3.6/site-packages/seaborn/_decorators.py:43: FutureWarning: Pass the following variables as keyword args: x, y. From version 0.12, the only valid positional argument will be `data`, and passing other arguments without an explicit keyword will result in an error or misinterpretation.\n",
      "  FutureWarning\n"
     ]
    },
    {
     "data": {
      "text/plain": [
       "Text(0.5, 1.0, 'Recoveries by Country')"
      ]
     },
     "execution_count": 84,
     "metadata": {},
     "output_type": "execute_result"
    },
    {
     "data": {
      "image/png": "[encoded data removed]",
      "text/plain": [
       "<Figure size 432x288 with 1 Axes>"
      ]
     },
     "metadata": {
      "needs_background": "light"
     },
     "output_type": "display_data"
    }
   ],
   "source": [
    "top = 13\n",
    "ax = sns.barplot(df_recovered.head(top)[\"Total Recoveries\"], df_recovered.head(top)[\"Country/Region\"])\n",
    "plt.title(\"Recoveries by Country\")"
   ]
  },
  {
   "cell_type": "code",
   "execution_count": 93,
   "metadata": {},
   "outputs": [],
   "source": [
    "df_loc = df[[\"Country/Region\", \"Lat\", \"Long\"]].groupby(\"Country/Region\").mean()"
   ]
  },
  {
   "cell_type": "code",
   "execution_count": 107,
   "metadata": {},
   "outputs": [
    {
     "name": "stdout",
     "output_type": "stream",
     "text": [
      "188 x 8 Data Frame\n"
     ]
    },
    {
     "data": {
      "text/html": [
       "<div>\n",
       "<style scoped>\n",
       "    .dataframe tbody tr th:only-of-type {\n",
       "        vertical-align: middle;\n",
       "    }\n",
       "\n",
       "    .dataframe tbody tr th {\n",
       "        vertical-align: top;\n",
       "    }\n",
       "\n",
       "    .dataframe thead th {\n",
       "        text-align: right;\n",
       "    }\n",
       "</style>\n",
       "<table border=\"1\" class=\"dataframe\">\n",
       "  <thead>\n",
       "    <tr style=\"text-align: right;\">\n",
       "      <th></th>\n",
       "      <th>Country/Region</th>\n",
       "      <th>Lat</th>\n",
       "      <th>Long</th>\n",
       "      <th>Total Cases</th>\n",
       "      <th>Total Deaths</th>\n",
       "      <th>Total Recoveries</th>\n",
       "      <th>Mortality Rate (%)</th>\n",
       "      <th>Recovery Rate (%)</th>\n",
       "    </tr>\n",
       "  </thead>\n",
       "  <tbody>\n",
       "    <tr>\n",
       "      <th>0</th>\n",
       "      <td>Afghanistan</td>\n",
       "      <td>33.939110</td>\n",
       "      <td>67.709953</td>\n",
       "      <td>4487922</td>\n",
       "      <td>142063</td>\n",
       "      <td>2758193</td>\n",
       "      <td>3.165452</td>\n",
       "      <td>61.458131</td>\n",
       "    </tr>\n",
       "    <tr>\n",
       "      <th>1</th>\n",
       "      <td>Albania</td>\n",
       "      <td>41.153300</td>\n",
       "      <td>20.168300</td>\n",
       "      <td>825474</td>\n",
       "      <td>24325</td>\n",
       "      <td>467513</td>\n",
       "      <td>2.946792</td>\n",
       "      <td>56.635703</td>\n",
       "    </tr>\n",
       "    <tr>\n",
       "      <th>2</th>\n",
       "      <td>Algeria</td>\n",
       "      <td>28.033900</td>\n",
       "      <td>1.659600</td>\n",
       "      <td>4044727</td>\n",
       "      <td>177624</td>\n",
       "      <td>2761970</td>\n",
       "      <td>4.391495</td>\n",
       "      <td>68.285696</td>\n",
       "    </tr>\n",
       "    <tr>\n",
       "      <th>3</th>\n",
       "      <td>Andorra</td>\n",
       "      <td>42.506300</td>\n",
       "      <td>1.521800</td>\n",
       "      <td>178893</td>\n",
       "      <td>8959</td>\n",
       "      <td>134071</td>\n",
       "      <td>5.008022</td>\n",
       "      <td>74.944799</td>\n",
       "    </tr>\n",
       "    <tr>\n",
       "      <th>4</th>\n",
       "      <td>Angola</td>\n",
       "      <td>-11.202700</td>\n",
       "      <td>17.873900</td>\n",
       "      <td>207951</td>\n",
       "      <td>8545</td>\n",
       "      <td>76451</td>\n",
       "      <td>4.109141</td>\n",
       "      <td>36.763949</td>\n",
       "    </tr>\n",
       "    <tr>\n",
       "      <th>5</th>\n",
       "      <td>Antigua and Barbuda</td>\n",
       "      <td>17.060800</td>\n",
       "      <td>-61.796400</td>\n",
       "      <td>10820</td>\n",
       "      <td>527</td>\n",
       "      <td>8353</td>\n",
       "      <td>4.870610</td>\n",
       "      <td>77.199630</td>\n",
       "    </tr>\n",
       "    <tr>\n",
       "      <th>6</th>\n",
       "      <td>Argentina</td>\n",
       "      <td>-38.416100</td>\n",
       "      <td>-63.616700</td>\n",
       "      <td>33514520</td>\n",
       "      <td>707790</td>\n",
       "      <td>22658806</td>\n",
       "      <td>2.111891</td>\n",
       "      <td>67.608923</td>\n",
       "    </tr>\n",
       "    <tr>\n",
       "      <th>7</th>\n",
       "      <td>Armenia</td>\n",
       "      <td>40.069100</td>\n",
       "      <td>45.038200</td>\n",
       "      <td>4526165</td>\n",
       "      <td>84957</td>\n",
       "      <td>3370131</td>\n",
       "      <td>1.877020</td>\n",
       "      <td>74.458863</td>\n",
       "    </tr>\n",
       "    <tr>\n",
       "      <th>8</th>\n",
       "      <td>Australia</td>\n",
       "      <td>-32.106275</td>\n",
       "      <td>141.355487</td>\n",
       "      <td>2592530</td>\n",
       "      <td>51413</td>\n",
       "      <td>1980691</td>\n",
       "      <td>1.983121</td>\n",
       "      <td>76.399926</td>\n",
       "    </tr>\n",
       "    <tr>\n",
       "      <th>9</th>\n",
       "      <td>Austria</td>\n",
       "      <td>47.516200</td>\n",
       "      <td>14.550100</td>\n",
       "      <td>4005492</td>\n",
       "      <td>121207</td>\n",
       "      <td>3282411</td>\n",
       "      <td>3.026020</td>\n",
       "      <td>81.947761</td>\n",
       "    </tr>\n",
       "    <tr>\n",
       "      <th>10</th>\n",
       "      <td>Azerbaijan</td>\n",
       "      <td>40.143100</td>\n",
       "      <td>47.576900</td>\n",
       "      <td>3562701</td>\n",
       "      <td>49760</td>\n",
       "      <td>2932431</td>\n",
       "      <td>1.396693</td>\n",
       "      <td>82.309209</td>\n",
       "    </tr>\n",
       "    <tr>\n",
       "      <th>11</th>\n",
       "      <td>Bahamas</td>\n",
       "      <td>25.025885</td>\n",
       "      <td>-78.035889</td>\n",
       "      <td>157340</td>\n",
       "      <td>4342</td>\n",
       "      <td>64825</td>\n",
       "      <td>2.759629</td>\n",
       "      <td>41.200585</td>\n",
       "    </tr>\n",
       "    <tr>\n",
       "      <th>12</th>\n",
       "      <td>Bahrain</td>\n",
       "      <td>26.027500</td>\n",
       "      <td>50.550000</td>\n",
       "      <td>5364176</td>\n",
       "      <td>18009</td>\n",
       "      <td>4639343</td>\n",
       "      <td>0.335727</td>\n",
       "      <td>86.487524</td>\n",
       "    </tr>\n",
       "  </tbody>\n",
       "</table>\n",
       "</div>"
      ],
      "text/plain": [
       "         Country/Region        Lat        Long  Total Cases  Total Deaths  \\\n",
       "0           Afghanistan  33.939110   67.709953      4487922        142063   \n",
       "1               Albania  41.153300   20.168300       825474         24325   \n",
       "2               Algeria  28.033900    1.659600      4044727        177624   \n",
       "3               Andorra  42.506300    1.521800       178893          8959   \n",
       "4                Angola -11.202700   17.873900       207951          8545   \n",
       "5   Antigua and Barbuda  17.060800  -61.796400        10820           527   \n",
       "6             Argentina -38.416100  -63.616700     33514520        707790   \n",
       "7               Armenia  40.069100   45.038200      4526165         84957   \n",
       "8             Australia -32.106275  141.355487      2592530         51413   \n",
       "9               Austria  47.516200   14.550100      4005492        121207   \n",
       "10           Azerbaijan  40.143100   47.576900      3562701         49760   \n",
       "11              Bahamas  25.025885  -78.035889       157340          4342   \n",
       "12              Bahrain  26.027500   50.550000      5364176         18009   \n",
       "\n",
       "    Total Recoveries  Mortality Rate (%)  Recovery Rate (%)  \n",
       "0            2758193            3.165452          61.458131  \n",
       "1             467513            2.946792          56.635703  \n",
       "2            2761970            4.391495          68.285696  \n",
       "3             134071            5.008022          74.944799  \n",
       "4              76451            4.109141          36.763949  \n",
       "5               8353            4.870610          77.199630  \n",
       "6           22658806            2.111891          67.608923  \n",
       "7            3370131            1.877020          74.458863  \n",
       "8            1980691            1.983121          76.399926  \n",
       "9            3282411            3.026020          81.947761  \n",
       "10           2932431            1.396693          82.309209  \n",
       "11             64825            2.759629          41.200585  \n",
       "12           4639343            0.335727          86.487524  "
      ]
     },
     "execution_count": 107,
     "metadata": {},
     "output_type": "execute_result"
    }
   ],
   "source": [
    "df_full_info = df_loc.merge(df_confirmed, left_on = \"Country/Region\", right_on = \"Country/Region\")\n",
    "df_full_info = df_full_info.merge(df_deaths, left_on = \"Country/Region\", right_on = \"Country/Region\")\n",
    "df_full_info = df_full_info.merge(df_recovered, left_on = \"Country/Region\", right_on = \"Country/Region\")\n",
    "df_full_info[\"Mortality Rate (%)\"] = (df_full_info[\"Total Deaths\"] / df_full_info[\"Total Cases\"]) * 100\n",
    "df_full_info[\"Recovery Rate (%)\"] = (df_full_info[\"Total Recoveries\"] / df_full_info[\"Total Cases\"]) * 100\n",
    "print(df_full_info.shape[0], \"x\", df_full_info.shape[1], \"Data Frame\")\n",
    "df_full_info.head(13)"
   ]
  },
  {
   "cell_type": "code",
   "execution_count": 113,
   "metadata": {},
   "outputs": [
    {
     "name": "stderr",
     "output_type": "stream",
     "text": [
      "/home/cs582/anaconda3/envs/py36/lib/python3.6/site-packages/seaborn/_decorators.py:43: FutureWarning: Pass the following variables as keyword args: x, y. From version 0.12, the only valid positional argument will be `data`, and passing other arguments without an explicit keyword will result in an error or misinterpretation.\n",
      "  FutureWarning\n"
     ]
    },
    {
     "data": {
      "text/plain": [
       "Text(0.5, 1.0, 'Recovery rate by Country')"
      ]
     },
     "execution_count": 113,
     "metadata": {},
     "output_type": "execute_result"
    },
    {
     "data": {
      "image/png": "[encoded data removed]",
      "text/plain": [
       "<Figure size 432x288 with 1 Axes>"
      ]
     },
     "metadata": {
      "needs_background": "light"
     },
     "output_type": "display_data"
    }
   ],
   "source": [
    "top = 13\n",
    "recovs = df_full_info[[\"Country/Region\", \"Recovery Rate (%)\"]].sort_values(\"Recovery Rate (%)\", ascending = False)\n",
    "ax = sns.barplot(recovs.head(top)[\"Recovery Rate (%)\"], recovs.head(top)[\"Country/Region\"])\n",
    "plt.title(\"Recovery rate by Country\")"
   ]
  },
  {
   "cell_type": "code",
   "execution_count": 117,
   "metadata": {},
   "outputs": [
    {
     "name": "stderr",
     "output_type": "stream",
     "text": [
      "/home/cs582/anaconda3/envs/py36/lib/python3.6/site-packages/seaborn/_decorators.py:43: FutureWarning: Pass the following variables as keyword args: x, y. From version 0.12, the only valid positional argument will be `data`, and passing other arguments without an explicit keyword will result in an error or misinterpretation.\n",
      "  FutureWarning\n"
     ]
    },
    {
     "data": {
      "text/plain": [
       "Text(0.5, 1.0, 'Mortality rate by Country')"
      ]
     },
     "execution_count": 117,
     "metadata": {},
     "output_type": "execute_result"
    },
    {
     "data": {
      "image/png": "[encoded data removed]",
      "text/plain": [
       "<Figure size 432x288 with 1 Axes>"
      ]
     },
     "metadata": {
      "needs_background": "light"
     },
     "output_type": "display_data"
    }
   ],
   "source": [
    "top = 13\n",
    "mort = df_full_info[[\"Country/Region\", \"Mortality Rate (%)\"]].sort_values(\"Mortality Rate (%)\", ascending = False)\n",
    "ax = sns.barplot(mort.head(top)[\"Mortality Rate (%)\"], mort.head(top)[\"Country/Region\"])\n",
    "plt.title(\"Mortality rate by Country\")"
   ]
  },
  {
   "cell_type": "code",
   "execution_count": null,
   "metadata": {},
   "outputs": [],
   "source": []
  }
 ],
 "metadata": {
  "kernelspec": {
   "display_name": "Python 3",
   "language": "python",
   "name": "python3"
  },
  "language_info": {
   "codemirror_mode": {
    "name": "ipython",
    "version": 3
   },
   "file_extension": ".py",
   "mimetype": "text/x-python",
   "name": "python",
   "nbconvert_exporter": "python",
   "pygments_lexer": "ipython3",
   "version": "3.6.10"
  }
 },
 "nbformat": 4,
 "nbformat_minor": 4
}
